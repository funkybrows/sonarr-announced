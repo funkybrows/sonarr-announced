{
 "cells": [
  {
   "cell_type": "markdown",
   "metadata": {},
   "source": [
    "The Connection obj gets a StreamRead/StreamWrite\n",
    "Why does pytest destroy my tasks\n",
    "    - Is the problem in connect?\n",
    "        - If connect does sleep for 15, we do wait\n",
    "    - Is it the event loop?\n",
    "        - Is the client using the pytest event loop: Yes\n",
    "        - Am I using create_task incorrectly?\n",
    "            - Yes, create_task starts running the fn immediately before returning control of event loop to something else.\n",
    "                - The created task must be awaited\n",
    "        - When tasks are waiting, the next event in the loop kicks off.\n",
    "        - Does pytest add something to the event loop that leads to a close\n",
    "            - How do we know when a task is completed?\n",
    "            - What does run_until_complete mean?\n",
    "        - Can you add additional tasks to a running event loop\n",
    "    - Should connect be returning something?\n",
    "    - Event loop\n",
    "        - Can be created by asyncio.run(coroutine)\n",
    "    - Async tells python that the function should be returned (when called) as a coroutine object to be executed later\n",
    "    - Await shifts control of the event loop to the coroutine that we're awaiting until it is done\n"
   ]
  }
 ],
 "metadata": {
  "language_info": {
   "name": "python"
  },
  "orig_nbformat": 4
 },
 "nbformat": 4,
 "nbformat_minor": 2
}
